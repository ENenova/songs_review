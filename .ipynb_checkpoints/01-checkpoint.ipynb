{
 "cells": [
  {
   "cell_type": "code",
   "execution_count": 1,
   "metadata": {
    "collapsed": true
   },
   "outputs": [],
   "source": [
    "import os\n",
    "import os.path"
   ]
  },
  {
   "cell_type": "code",
   "execution_count": 5,
   "metadata": {
    "collapsed": true
   },
   "outputs": [],
   "source": [
    "# загружаем страницу со всеми названиями альбомов и песен"
   ]
  },
  {
   "cell_type": "code",
   "execution_count": 13,
   "metadata": {
    "scrolled": false
   },
   "outputs": [],
   "source": [
    "import requests\n",
    "# \n",
    "artist = 'him'\n",
    "\n",
    "\n",
    "url = f'https://www.azlyrics.com/{artist[0]}/{artist}.html'\n",
    "headers = {\n",
    "        'User-Agent': 'Mozilla/5.0 (Macintosh; Intel Mac OS X 10.9; rv:45.0) Gecko/20100101 Firefox/45.0'\n",
    "      }\n",
    "r = requests.get(url, headers = headers)\n",
    "with open('test.html', 'w') as output_file:\n",
    "  output_file.write(r.text)"
   ]
  },
  {
   "cell_type": "code",
   "execution_count": null,
   "metadata": {
    "collapsed": true
   },
   "outputs": [],
   "source": [
    "from bs4 import BeautifulSoup\n",
    "from lxml import html\n",
    "\n",
    "# Beautiful Soup\n",
    "soup = BeautifulSoup(text)\n",
    "film_list = soup.find('div', {'class': 'profileFilmsList'})\n",
    "\n",
    "# lxml \n",
    "tree = html.fromstring(text)\n",
    "film_list_lxml = tree.xpath('//div[@class = \"profileFilmsList\"]')[0]"
   ]
  },
  {
   "cell_type": "code",
   "execution_count": null,
   "metadata": {
    "collapsed": true
   },
   "outputs": [],
   "source": []
  },
  {
   "cell_type": "code",
   "execution_count": 6,
   "metadata": {
    "collapsed": true
   },
   "outputs": [],
   "source": [
    "#считываем все названия песен"
   ]
  },
  {
   "cell_type": "code",
   "execution_count": 14,
   "metadata": {},
   "outputs": [
    {
     "name": "stdout",
     "output_type": "stream",
     "text": [
      "./Albums/album2\n",
      "./Albums/album2/a2_t1.txt\n",
      "###########\n",
      "./Albums/album2\n",
      "./Albums/album2/a2_t2.txt\n",
      "###########\n",
      "./Albums/album1\n",
      "./Albums/album1/a1_t1.txt\n",
      "###########\n",
      "./Albums/album1\n",
      "./Albums/album1/a1_t2.txt\n",
      "###########\n"
     ]
    }
   ],
   "source": [
    "for dirpath, dirnames, filenames in os.walk(\"./Albums/\"):\n",
    "    for filename in [f for f in filenames if f.endswith(\".txt\")]:\n",
    "        print(dirpath)\n",
    "        print (os.path.join(dirpath, filename))\n",
    "        print('###########')"
   ]
  },
  {
   "cell_type": "code",
   "execution_count": null,
   "metadata": {
    "collapsed": true
   },
   "outputs": [],
   "source": []
  }
 ],
 "metadata": {
  "kernelspec": {
   "display_name": "Python 3",
   "language": "python",
   "name": "python3"
  },
  "language_info": {
   "codemirror_mode": {
    "name": "ipython",
    "version": 3
   },
   "file_extension": ".py",
   "mimetype": "text/x-python",
   "name": "python",
   "nbconvert_exporter": "python",
   "pygments_lexer": "ipython3",
   "version": "3.6.1"
  }
 },
 "nbformat": 4,
 "nbformat_minor": 2
}
