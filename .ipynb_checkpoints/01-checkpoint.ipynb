{
 "cells": [
  {
   "cell_type": "code",
   "execution_count": 23,
   "metadata": {
    "collapsed": true
   },
   "outputs": [],
   "source": [
    "import os\n",
    "import os.path\n",
    "from bs4 import BeautifulSoup"
   ]
  },
  {
   "cell_type": "code",
   "execution_count": 8,
   "metadata": {
    "collapsed": true
   },
   "outputs": [],
   "source": [
    "# загружаем страницу со всеми названиями альбомов и песен"
   ]
  },
  {
   "cell_type": "code",
   "execution_count": 15,
   "metadata": {
    "collapsed": true,
    "scrolled": false
   },
   "outputs": [],
   "source": [
    "import requests\n",
    "# \n",
    "artist = 'him'\n",
    "\n",
    "\n",
    "url = f'https://www.azlyrics.com/{artist[0]}/{artist}.html'\n",
    "headers = {\n",
    "        'User-Agent': 'Mozilla/5.0 (Macintosh; Intel Mac OS X 10.9; rv:45.0) Gecko/20100101 Firefox/45.0'\n",
    "      }\n",
    "r = requests.get(url, headers = headers)\n",
    "with open('test.html', 'w') as output_file:\n",
    "  output_file.write(r.text)"
   ]
  },
  {
   "cell_type": "code",
   "execution_count": 26,
   "metadata": {
    "collapsed": true
   },
   "outputs": [],
   "source": [
    "def read_file(filename):\n",
    "    with open(filename) as input_file:\n",
    "        text = input_file.read()\n",
    "    return text\n",
    "\n",
    "\n",
    "def parse_user_datafile_bs(filename):\n",
    "    results = []\n",
    "    text = read_file(filename)\n",
    "\n",
    "    soup = BeautifulSoup(text, 'lxml')\n",
    "    film_list = soup.find('div', {'id': 'listAlbum'})\n",
    "    items = film_list.find_all('div', {'class': ['item', 'item even']})\n",
    "    for item in items:\n",
    "        # getting movie_id\n",
    "        movie_link = item.find('div', {'class': 'nameRus'}).find('a').get('href')\n",
    "        movie_desc = item.find('div', {'class': 'nameRus'}).find('a').text\n",
    "        movie_id = re.findall('\\d+', movie_link)[0]\n",
    "\n",
    "        # getting english name\n",
    "        name_eng = item.find('div', {'class': 'nameEng'}).text\n",
    "\n",
    "        #getting watch time\n",
    "        watch_datetime = item.find('div', {'class': 'date'}).text\n",
    "        date_watched, time_watched = re.match('(\\d{2}\\.\\d{2}\\.\\d{4}), (\\d{2}:\\d{2})', watch_datetime).groups()\n",
    "\n",
    "        # getting user rating\n",
    "        user_rating = item.find('div', {'class': 'vote'}).text\n",
    "        if user_rating:\n",
    "            user_rating = int(user_rating)\n",
    "\n",
    "        results.append({\n",
    "                'song_name': movie_id,\n",
    "                'lyrics_link': link\n",
    "            })\n",
    "        \n",
    "    return results"
   ]
  },
  {
   "cell_type": "code",
   "execution_count": 29,
   "metadata": {},
   "outputs": [],
   "source": [
    "text = read_file('test.html')\n",
    "\n",
    "soup = BeautifulSoup(text, 'lxml')\n",
    "song_list = soup.find('div', {'id': 'listAlbum'})"
   ]
  },
  {
   "cell_type": "code",
   "execution_count": 38,
   "metadata": {},
   "outputs": [
    {
     "data": {
      "text/plain": [
       "'../lyrics/him/wickedgame.html'"
      ]
     },
     "execution_count": 38,
     "metadata": {},
     "output_type": "execute_result"
    }
   ],
   "source": [
    "song_list.find_all('a')[3].get('href')"
   ]
  },
  {
   "cell_type": "code",
   "execution_count": 39,
   "metadata": {},
   "outputs": [
    {
     "data": {
      "text/plain": [
       "'Wicked Game'"
      ]
     },
     "execution_count": 39,
     "metadata": {},
     "output_type": "execute_result"
    }
   ],
   "source": [
    "song_list.find_all('a')[3].contents[0]"
   ]
  },
  {
   "cell_type": "code",
   "execution_count": 6,
   "metadata": {
    "collapsed": true
   },
   "outputs": [],
   "source": [
    "#считываем все названия песен"
   ]
  },
  {
   "cell_type": "code",
   "execution_count": 6,
   "metadata": {
    "collapsed": true
   },
   "outputs": [],
   "source": [
    "for dirpath, dirnames, filenames in os.walk(\"./Albums/\"):\n",
    "    for filename in [f for f in filenames if f.endswith(\".txt\")]:\n",
    "        print(dirpath)\n",
    "        print(os.path.join(dirpath, filename))\n",
    "        print('###########')"
   ]
  },
  {
   "cell_type": "code",
   "execution_count": null,
   "metadata": {
    "collapsed": true
   },
   "outputs": [],
   "source": []
  }
 ],
 "metadata": {
  "kernelspec": {
   "display_name": "Python 3",
   "language": "python",
   "name": "python3"
  },
  "language_info": {
   "codemirror_mode": {
    "name": "ipython",
    "version": 3
   },
   "file_extension": ".py",
   "mimetype": "text/x-python",
   "name": "python",
   "nbconvert_exporter": "python",
   "pygments_lexer": "ipython3",
   "version": "3.6.1"
  }
 },
 "nbformat": 4,
 "nbformat_minor": 2
}
